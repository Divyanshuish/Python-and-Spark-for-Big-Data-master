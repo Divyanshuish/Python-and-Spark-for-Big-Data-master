{
 "cells": [
  {
   "cell_type": "code",
   "execution_count": 1,
   "metadata": {},
   "outputs": [],
   "source": [
    "from pyspark.sql import SparkSession\n",
    "spark = SparkSession.builder.appName('clusteringHackers').getOrCreate()"
   ]
  },
  {
   "cell_type": "markdown",
   "metadata": {},
   "source": [
    "## First check the data"
   ]
  },
  {
   "cell_type": "code",
   "execution_count": 3,
   "metadata": {},
   "outputs": [
    {
     "name": "stdout",
     "output_type": "stream",
     "text": [
      "No. of attempts: 334\n",
      "Examples of attempt sessions\n",
      "+-----------------------+-----------------+---------------+-----------------+---------------+--------------------+----------------+\n",
      "|Session_Connection_Time|Bytes Transferred|Kali_Trace_Used|Servers_Corrupted|Pages_Corrupted|            Location|WPM_Typing_Speed|\n",
      "+-----------------------+-----------------+---------------+-----------------+---------------+--------------------+----------------+\n",
      "|                    8.0|           391.09|              1|             2.96|            7.0|            Slovenia|           72.37|\n",
      "|                   20.0|           720.99|              0|             3.04|            9.0|British Virgin Is...|           69.08|\n",
      "|                   31.0|           356.32|              1|             3.71|            8.0|             Tokelau|           70.58|\n",
      "|                    2.0|           228.08|              1|             2.48|            8.0|             Bolivia|            70.8|\n",
      "|                   20.0|            408.5|              0|             3.57|            8.0|                Iraq|           71.28|\n",
      "+-----------------------+-----------------+---------------+-----------------+---------------+--------------------+----------------+\n",
      "only showing top 5 rows\n",
      "\n",
      "--------------------------------------------------\n",
      "root\n",
      " |-- Session_Connection_Time: double (nullable = true)\n",
      " |-- Bytes Transferred: double (nullable = true)\n",
      " |-- Kali_Trace_Used: integer (nullable = true)\n",
      " |-- Servers_Corrupted: double (nullable = true)\n",
      " |-- Pages_Corrupted: double (nullable = true)\n",
      " |-- Location: string (nullable = true)\n",
      " |-- WPM_Typing_Speed: double (nullable = true)\n",
      "\n"
     ]
    }
   ],
   "source": [
    "data = spark.read.csv('hack_data.csv', header=True, inferSchema=True)\n",
    "print('No. of attempts:', data.count())\n",
    "\n",
    "print('Examples of attempt sessions')\n",
    "data.show(5)\n",
    "\n",
    "print('-'*50)\n",
    "data.printSchema()"
   ]
  },
  {
   "cell_type": "markdown",
   "metadata": {},
   "source": [
    "## Make some assumptions and build data_clean\n",
    "1. To determine the efficient of a hacker 'Bytes Transferred', 'Servers_Corrupted', and 'Pages_Corrupted' should be divided by 'Session_Connection_Time'\n",
    "2. 'Servers_Corrupted' is already not an integer --> probably already divied by 'Session_Connection_Time'\n",
    "3. 'Location' is likely not useful because of VPN"
   ]
  },
  {
   "cell_type": "code",
   "execution_count": 19,
   "metadata": {},
   "outputs": [
    {
     "name": "stdout",
     "output_type": "stream",
     "text": [
      "+-----------------------+---------------+----------------------+--------------------+----------------------+----------------+\n",
      "|Session_Connection_Time|Kali_Trace_Used|Servers_Corrupted_Rate|Pages_Corrupted_Rate|Bytes_Transferred_Rate|WPM_Typing_Speed|\n",
      "+-----------------------+---------------+----------------------+--------------------+----------------------+----------------+\n",
      "|                    8.0|              1|                  2.96|               0.875|                391.09|           72.37|\n",
      "|                   20.0|              0|                  3.04|                0.45|                720.99|           69.08|\n",
      "|                   31.0|              1|                  3.71| 0.25806451612903225|                356.32|           70.58|\n",
      "|                    2.0|              1|                  2.48|                 4.0|                228.08|            70.8|\n",
      "|                   20.0|              0|                  3.57|                 0.4|                 408.5|           71.28|\n",
      "+-----------------------+---------------+----------------------+--------------------+----------------------+----------------+\n",
      "only showing top 5 rows\n",
      "\n",
      "root\n",
      " |-- Session_Connection_Time: double (nullable = true)\n",
      " |-- Kali_Trace_Used: integer (nullable = true)\n",
      " |-- Servers_Corrupted_Rate: double (nullable = true)\n",
      " |-- Pages_Corrupted_Rate: double (nullable = true)\n",
      " |-- Bytes_Transferred_Rate: double (nullable = true)\n",
      " |-- WPM_Typing_Speed: double (nullable = true)\n",
      "\n"
     ]
    }
   ],
   "source": [
    "data_clean = data.select('Session_Connection_Time',\n",
    "                        'Kali_Trace_Used', \n",
    "                        data['Servers_Corrupted'].alias('Servers_Corrupted_Rate'),\n",
    "                        (data['Pages_Corrupted']/data['Session_Connection_Time']).alias('Pages_Corrupted_Rate'), \n",
    "                        (data['Bytes Transferred']).alias('Bytes_Transferred_Rate'), \n",
    "                        'WPM_Typing_Speed')\n",
    "data_clean.show(5)\n",
    "data_clean.printSchema()"
   ]
  },
  {
   "cell_type": "markdown",
   "metadata": {},
   "source": [
    "## Prepare data"
   ]
  },
  {
   "cell_type": "code",
   "execution_count": 82,
   "metadata": {},
   "outputs": [],
   "source": [
    "from pyspark.ml.feature import VectorAssembler"
   ]
  },
  {
   "cell_type": "code",
   "execution_count": 83,
   "metadata": {},
   "outputs": [
    {
     "name": "stdout",
     "output_type": "stream",
     "text": [
      "+--------------------+\n",
      "|            features|\n",
      "+--------------------+\n",
      "|[8.0,1.0,2.96,0.8...|\n",
      "|[20.0,0.0,3.04,0....|\n",
      "|[31.0,1.0,3.71,0....|\n",
      "|[2.0,1.0,2.48,4.0...|\n",
      "|[20.0,0.0,3.57,0....|\n",
      "+--------------------+\n",
      "only showing top 5 rows\n",
      "\n"
     ]
    }
   ],
   "source": [
    "assembler = VectorAssembler(inputCols=data_clean.columns, outputCol='features')\n",
    "data_feed = assembler.transform(data_clean).select('features')\n",
    "data_feed.show(5)"
   ]
  },
  {
   "cell_type": "markdown",
   "metadata": {},
   "source": [
    "## Scale data"
   ]
  },
  {
   "cell_type": "code",
   "execution_count": 84,
   "metadata": {},
   "outputs": [],
   "source": [
    "from pyspark.ml.feature import StandardScaler"
   ]
  },
  {
   "cell_type": "code",
   "execution_count": 85,
   "metadata": {},
   "outputs": [],
   "source": [
    "scaler = StandardScaler(inputCol='features', outputCol='scaledFeatures')"
   ]
  },
  {
   "cell_type": "code",
   "execution_count": 86,
   "metadata": {},
   "outputs": [],
   "source": [
    "data_feed = scaler.fit(data_feed).transform(data_feed)"
   ]
  },
  {
   "cell_type": "code",
   "execution_count": 87,
   "metadata": {},
   "outputs": [
    {
     "name": "stdout",
     "output_type": "stream",
     "text": [
      "+--------------------+--------------------+\n",
      "|            features|      scaledFeatures|\n",
      "+--------------------+--------------------+\n",
      "|[8.0,1.0,2.96,0.8...|[0.56785108466505...|\n",
      "|[20.0,0.0,3.04,0....|[1.41962771166263...|\n",
      "|[31.0,1.0,3.71,0....|[2.20042295307707...|\n",
      "|[2.0,1.0,2.48,4.0...|[0.14196277116626...|\n",
      "|[20.0,0.0,3.57,0....|[1.41962771166263...|\n",
      "+--------------------+--------------------+\n",
      "only showing top 5 rows\n",
      "\n"
     ]
    }
   ],
   "source": [
    "data_feed.show(5)"
   ]
  },
  {
   "cell_type": "markdown",
   "metadata": {},
   "source": [
    "## Run k-means clustering"
   ]
  },
  {
   "cell_type": "code",
   "execution_count": 88,
   "metadata": {},
   "outputs": [],
   "source": [
    "from pyspark.ml.clustering import KMeans"
   ]
  },
  {
   "cell_type": "code",
   "execution_count": 89,
   "metadata": {
    "scrolled": false
   },
   "outputs": [
    {
     "name": "stdout",
     "output_type": "stream",
     "text": [
      "K-means clustering with k=2\n",
      "--------------------------------------------------\n",
      "Examples of predictions:\n",
      "+--------------------+--------------------+----------+\n",
      "|            features|      scaledFeatures|prediction|\n",
      "+--------------------+--------------------+----------+\n",
      "|[8.0,1.0,2.96,0.8...|[0.56785108466505...|         1|\n",
      "|[20.0,0.0,3.04,0....|[1.41962771166263...|         1|\n",
      "|[31.0,1.0,3.71,0....|[2.20042295307707...|         1|\n",
      "|[2.0,1.0,2.48,4.0...|[0.14196277116626...|         1|\n",
      "|[20.0,0.0,3.57,0....|[1.41962771166263...|         1|\n",
      "+--------------------+--------------------+----------+\n",
      "only showing top 5 rows\n",
      "\n",
      "--------------------------------------------------\n",
      "Sum of squared distances to the centroids: 900.3398\n",
      "--------------------------------------------------\n",
      "Predicted no. of attempts by each hackers: \n",
      "+----------+-----+\n",
      "|prediction|count|\n",
      "+----------+-----+\n",
      "|         1|  167|\n",
      "|         0|  167|\n",
      "+----------+-----+\n",
      "\n",
      "End of predictions with k=2\n",
      "++++++++++++++++++++++++++++++++++++++++++++++++++++++++++++++++++++++++++++++++\n",
      "K-means clustering with k=3\n",
      "--------------------------------------------------\n",
      "Examples of predictions:\n",
      "+--------------------+--------------------+----------+\n",
      "|            features|      scaledFeatures|prediction|\n",
      "+--------------------+--------------------+----------+\n",
      "|[8.0,1.0,2.96,0.8...|[0.56785108466505...|         0|\n",
      "|[20.0,0.0,3.04,0....|[1.41962771166263...|         0|\n",
      "|[31.0,1.0,3.71,0....|[2.20042295307707...|         0|\n",
      "|[2.0,1.0,2.48,4.0...|[0.14196277116626...|         0|\n",
      "|[20.0,0.0,3.57,0....|[1.41962771166263...|         0|\n",
      "+--------------------+--------------------+----------+\n",
      "only showing top 5 rows\n",
      "\n",
      "--------------------------------------------------\n",
      "Sum of squared distances to the centroids: 733.3304\n",
      "--------------------------------------------------\n",
      "Predicted no. of attempts by each hackers: \n",
      "+----------+-----+\n",
      "|prediction|count|\n",
      "+----------+-----+\n",
      "|         1|   79|\n",
      "|         2|   88|\n",
      "|         0|  167|\n",
      "+----------+-----+\n",
      "\n",
      "End of predictions with k=3\n",
      "++++++++++++++++++++++++++++++++++++++++++++++++++++++++++++++++++++++++++++++++\n"
     ]
    }
   ],
   "source": [
    "for i in range(2, 4):\n",
    "    \n",
    "    print('K-means clustering with k=%d' % i)\n",
    "    kmeans = KMeans(k=i, featuresCol='scaledFeatures')\n",
    "    kmeans_model = kmeans.fit(data_feed)\n",
    "    print('-'*50)\n",
    "\n",
    "    print('Examples of predictions:')\n",
    "    kmeans_model.summary.predictions.show(5)\n",
    "\n",
    "    print('-'*50)\n",
    "\n",
    "    print('Sum of squared distances to the centroids: %.4f' % kmeans_model.computeCost(data_feed))\n",
    "\n",
    "    print('-'*50)\n",
    "\n",
    "    print('Predicted no. of attempts by each hackers: ')\n",
    "    kmeans_model.summary.predictions.groupBy('prediction').count().show()\n",
    "    \n",
    "    print('End of predictions with k=%d' % i)\n",
    "    print('+'*80)"
   ]
  },
  {
   "cell_type": "markdown",
   "metadata": {},
   "source": [
    "## Let's see the elbow plot of sum squared distances to centroids"
   ]
  },
  {
   "cell_type": "code",
   "execution_count": 90,
   "metadata": {},
   "outputs": [],
   "source": [
    "import numpy as np\n",
    "import matplotlib.pyplot as plt\n",
    "% matplotlib inline"
   ]
  },
  {
   "cell_type": "code",
   "execution_count": 91,
   "metadata": {},
   "outputs": [],
   "source": [
    "cost = np.array([])\n",
    "\n",
    "for i in range(2,8):\n",
    "    kmeans_elbow = KMeans(k=i, featuresCol='scaledFeatures')\n",
    "    kmeans_elbow_model = kmeans_elbow.fit(data_feed)\n",
    "    cost = np.append(cost, kmeans_elbow_model.computeCost(data_feed))"
   ]
  },
  {
   "cell_type": "code",
   "execution_count": 92,
   "metadata": {},
   "outputs": [
    {
     "data": {
      "image/png": "[encoded data removed]",
      "text/plain": [
       "<matplotlib.figure.Figure at 0x7fc55c79e710>"
      ]
     },
     "metadata": {},
     "output_type": "display_data"
    }
   ],
   "source": [
    "fig, ax = plt.subplots(figsize = (8, 6))\n",
    "ax.plot(range(2, 8), cost)\n",
    "ax.set_ylabel('Sum squared distances to the centroids')\n",
    "ax.set_xlabel('No. of centroids (k)');"
   ]
  },
  {
   "cell_type": "markdown",
   "metadata": {},
   "source": [
    "## Based on the key hint that the number of attempts should be split equally between the hackers, we could predict that there were two hackers. Although if the elbow plot is given higher weight and no constraint put on the number of hackers, we might conclude that there were five to six hackers"
   ]
  }
 ],
 "metadata": {
  "kernelspec": {
   "display_name": "Python 3",
   "language": "python",
   "name": "python3"
  },
  "language_info": {
   "codemirror_mode": {
    "name": "ipython",
    "version": 3
   },
   "file_extension": ".py",
   "mimetype": "text/x-python",
   "name": "python",
   "nbconvert_exporter": "python",
   "pygments_lexer": "ipython3",
   "version": "3.5.2"
  }
 },
 "nbformat": 4,
 "nbformat_minor": 2
}
