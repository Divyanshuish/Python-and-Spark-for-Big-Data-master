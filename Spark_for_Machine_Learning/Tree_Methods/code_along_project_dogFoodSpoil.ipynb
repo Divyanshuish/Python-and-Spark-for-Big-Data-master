{
 "cells": [
  {
   "cell_type": "code",
   "execution_count": 1,
   "metadata": {},
   "outputs": [],
   "source": [
    "from pyspark.sql import SparkSession\n",
    "spark = SparkSession.builder.appName('dogFoodTree').getOrCreate()"
   ]
  },
  {
   "cell_type": "markdown",
   "metadata": {},
   "source": [
    "## Import data"
   ]
  },
  {
   "cell_type": "code",
   "execution_count": 2,
   "metadata": {},
   "outputs": [
    {
     "name": "stdout",
     "output_type": "stream",
     "text": [
      "root\n",
      " |-- A: integer (nullable = true)\n",
      " |-- B: integer (nullable = true)\n",
      " |-- C: double (nullable = true)\n",
      " |-- D: integer (nullable = true)\n",
      " |-- Spoiled: double (nullable = true)\n",
      "\n",
      "Number of samples: 490\n",
      "+---+---+----+---+-------+\n",
      "|  A|  B|   C|  D|Spoiled|\n",
      "+---+---+----+---+-------+\n",
      "|  4|  2|12.0|  3|    1.0|\n",
      "|  5|  6|12.0|  7|    1.0|\n",
      "|  6|  2|13.0|  6|    1.0|\n",
      "|  4|  2|12.0|  1|    1.0|\n",
      "|  4|  2|12.0|  3|    1.0|\n",
      "+---+---+----+---+-------+\n",
      "only showing top 5 rows\n",
      "\n"
     ]
    }
   ],
   "source": [
    "data = spark.read.csv('dog_food.csv', inferSchema=True, header=True)\n",
    "data.printSchema()\n",
    "print('Number of samples:', data.count())\n",
    "data.show(5)"
   ]
  },
  {
   "cell_type": "code",
   "execution_count": 3,
   "metadata": {},
   "outputs": [
    {
     "name": "stdout",
     "output_type": "stream",
     "text": [
      "Number of non-spoiled samples: 350\n",
      "+---+---+---+---+-------+\n",
      "|  A|  B|  C|  D|Spoiled|\n",
      "+---+---+---+---+-------+\n",
      "|  4|  2|8.0|  9|    0.0|\n",
      "|  4|  8|9.0|  1|    0.0|\n",
      "| 10|  8|8.0|  6|    0.0|\n",
      "|  8|  6|9.0|  4|    0.0|\n",
      "|  7|  2|7.0|  8|    0.0|\n",
      "+---+---+---+---+-------+\n",
      "only showing top 5 rows\n",
      "\n",
      "--------------------------------------------------\n",
      "Number of spoiled samples: 140\n",
      "+---+---+----+---+-------+\n",
      "|  A|  B|   C|  D|Spoiled|\n",
      "+---+---+----+---+-------+\n",
      "|  4|  2|12.0|  3|    1.0|\n",
      "|  5|  6|12.0|  7|    1.0|\n",
      "|  6|  2|13.0|  6|    1.0|\n",
      "|  4|  2|12.0|  1|    1.0|\n",
      "|  4|  2|12.0|  3|    1.0|\n",
      "+---+---+----+---+-------+\n",
      "only showing top 5 rows\n",
      "\n"
     ]
    }
   ],
   "source": [
    "# note 'filter' and 'where' are aliases\n",
    "# also note that both syntax styles (sql and python dataframe) work\n",
    "\n",
    "print('Number of non-spoiled samples:', data.filter('Spoiled=0').count())\n",
    "data.filter('Spoiled=0').show(5)\n",
    "\n",
    "print('-'*50)\n",
    "\n",
    "print('Number of spoiled samples:', data.where(data['Spoiled']==1).count())\n",
    "data.where(data['Spoiled']==1).show(5)"
   ]
  },
  {
   "cell_type": "markdown",
   "metadata": {},
   "source": [
    "## Prepare data to build model"
   ]
  },
  {
   "cell_type": "code",
   "execution_count": 4,
   "metadata": {},
   "outputs": [],
   "source": [
    "from pyspark.ml.feature import VectorAssembler\n",
    "assembler = VectorAssembler(inputCols=['A','B','C','D'], outputCol='features')"
   ]
  },
  {
   "cell_type": "code",
   "execution_count": 5,
   "metadata": {},
   "outputs": [
    {
     "name": "stdout",
     "output_type": "stream",
     "text": [
      "root\n",
      " |-- features: vector (nullable = true)\n",
      " |-- Spoiled: double (nullable = true)\n",
      "\n",
      "+------------------+-------+\n",
      "|          features|Spoiled|\n",
      "+------------------+-------+\n",
      "|[4.0,2.0,12.0,3.0]|    1.0|\n",
      "|[5.0,6.0,12.0,7.0]|    1.0|\n",
      "|[6.0,2.0,13.0,6.0]|    1.0|\n",
      "|[4.0,2.0,12.0,1.0]|    1.0|\n",
      "|[4.0,2.0,12.0,3.0]|    1.0|\n",
      "+------------------+-------+\n",
      "only showing top 5 rows\n",
      "\n"
     ]
    }
   ],
   "source": [
    "data_feed = assembler.transform(data).select(['features','Spoiled'])\n",
    "data_feed.printSchema()\n",
    "data_feed.show(5)"
   ]
  },
  {
   "cell_type": "markdown",
   "metadata": {},
   "source": [
    "## Build some models"
   ]
  },
  {
   "cell_type": "code",
   "execution_count": 6,
   "metadata": {},
   "outputs": [],
   "source": [
    "from pyspark.ml.classification import DecisionTreeClassifier, RandomForestClassifier"
   ]
  },
  {
   "cell_type": "code",
   "execution_count": 17,
   "metadata": {},
   "outputs": [],
   "source": [
    "dtc = DecisionTreeClassifier(labelCol='Spoiled', maxDepth=5)\n",
    "rfc = RandomForestClassifier(labelCol='Spoiled', maxDepth=5, numTrees=50)"
   ]
  },
  {
   "cell_type": "code",
   "execution_count": 18,
   "metadata": {},
   "outputs": [],
   "source": [
    "dtc_model = dtc.fit(data_feed)\n",
    "rfc_model = rfc.fit(data_feed)"
   ]
  },
  {
   "cell_type": "code",
   "execution_count": 19,
   "metadata": {},
   "outputs": [
    {
     "data": {
      "text/plain": [
       "SparseVector(4, {0: 0.0026, 1: 0.0089, 2: 0.9686, 3: 0.0199})"
      ]
     },
     "execution_count": 19,
     "metadata": {},
     "output_type": "execute_result"
    }
   ],
   "source": [
    "dtc_model.featureImportances"
   ]
  },
  {
   "cell_type": "code",
   "execution_count": 20,
   "metadata": {},
   "outputs": [
    {
     "data": {
      "text/plain": [
       "SparseVector(4, {0: 0.0224, 1: 0.0276, 2: 0.9243, 3: 0.0257})"
      ]
     },
     "execution_count": 20,
     "metadata": {},
     "output_type": "execute_result"
    }
   ],
   "source": [
    "rfc_model.featureImportances"
   ]
  },
  {
   "cell_type": "markdown",
   "metadata": {},
   "source": [
    "## Check correlation to confirm (column C should show the highest correlation with 'Spoiled' according to 'featureImportances'"
   ]
  },
  {
   "cell_type": "code",
   "execution_count": 21,
   "metadata": {},
   "outputs": [
    {
     "name": "stdout",
     "output_type": "stream",
     "text": [
      "Covarinace between A and Spoiled: 0.0600:\n",
      "Covarinace between B and Spoiled: -0.0865:\n",
      "Covarinace between C and Spoiled: 0.8586:\n",
      "Covarinace between D and Spoiled: -0.0161:\n"
     ]
    }
   ],
   "source": [
    "for col in ['A', 'B', 'C', 'D']:\n",
    "    print('Covarinace between %s and %s: %.4f:' % (col, 'Spoiled', data.corr(col,'Spoiled')))"
   ]
  },
  {
   "cell_type": "markdown",
   "metadata": {},
   "source": [
    "## Try fit and evaluate and test_data"
   ]
  },
  {
   "cell_type": "code",
   "execution_count": 22,
   "metadata": {},
   "outputs": [],
   "source": [
    "dtc_results = dtc_model.transform(data_feed)\n",
    "rfc_results = rfc_model.transform(data_feed)"
   ]
  },
  {
   "cell_type": "code",
   "execution_count": 23,
   "metadata": {},
   "outputs": [
    {
     "name": "stdout",
     "output_type": "stream",
     "text": [
      "DTC sample results: \n",
      "+------------------+-------+-------------+-----------+----------+\n",
      "|          features|Spoiled|rawPrediction|probability|prediction|\n",
      "+------------------+-------+-------------+-----------+----------+\n",
      "|[4.0,2.0,12.0,3.0]|    1.0|   [0.0,94.0]|  [0.0,1.0]|       1.0|\n",
      "|[5.0,6.0,12.0,7.0]|    1.0|   [0.0,94.0]|  [0.0,1.0]|       1.0|\n",
      "|[6.0,2.0,13.0,6.0]|    1.0|   [0.0,94.0]|  [0.0,1.0]|       1.0|\n",
      "|[4.0,2.0,12.0,1.0]|    1.0|   [0.0,94.0]|  [0.0,1.0]|       1.0|\n",
      "|[4.0,2.0,12.0,3.0]|    1.0|   [0.0,94.0]|  [0.0,1.0]|       1.0|\n",
      "+------------------+-------+-------------+-----------+----------+\n",
      "only showing top 5 rows\n",
      "\n",
      "--------------------------------------------------\n",
      "RFC sample results: \n",
      "+------------------+-------+--------------------+--------------------+----------+\n",
      "|          features|Spoiled|       rawPrediction|         probability|prediction|\n",
      "+------------------+-------+--------------------+--------------------+----------+\n",
      "|[4.0,2.0,12.0,3.0]|    1.0|[0.82040440179975...|[0.01640808803599...|       1.0|\n",
      "|[5.0,6.0,12.0,7.0]|    1.0|[0.74348132487667...|[0.01486962649753...|       1.0|\n",
      "|[6.0,2.0,13.0,6.0]|    1.0|[1.22083333333333...|[0.02441666666666...|       1.0|\n",
      "|[4.0,2.0,12.0,1.0]|    1.0|[0.50805008944543...|[0.01016100178890...|       1.0|\n",
      "|[4.0,2.0,12.0,3.0]|    1.0|[0.82040440179975...|[0.01640808803599...|       1.0|\n",
      "+------------------+-------+--------------------+--------------------+----------+\n",
      "only showing top 5 rows\n",
      "\n"
     ]
    }
   ],
   "source": [
    "print('DTC sample results: ')\n",
    "dtc_results.show(5)\n",
    "\n",
    "print('-'*50)\n",
    "\n",
    "print('RFC sample results: ')\n",
    "rfc_results.show(5)"
   ]
  },
  {
   "cell_type": "code",
   "execution_count": 24,
   "metadata": {},
   "outputs": [],
   "source": [
    "from pyspark.ml.evaluation import MulticlassClassificationEvaluator"
   ]
  },
  {
   "cell_type": "code",
   "execution_count": 25,
   "metadata": {},
   "outputs": [],
   "source": [
    "acc_eval = MulticlassClassificationEvaluator(labelCol='Spoiled', metricName='accuracy')\n",
    "f1_eval = MulticlassClassificationEvaluator(labelCol='Spoiled', metricName='f1')"
   ]
  },
  {
   "cell_type": "code",
   "execution_count": 26,
   "metadata": {},
   "outputs": [
    {
     "name": "stdout",
     "output_type": "stream",
     "text": [
      "DTC model accuracy: 0.9857142857142858\n",
      "DTC model F1-score: 0.9856350741457125\n",
      "--------------------------------------------------\n",
      "RFC model accuracy: 0.9877551020408163\n",
      "RFC model F1-score: 0.987701157538114\n"
     ]
    }
   ],
   "source": [
    "print('DTC model accuracy:', acc_eval.evaluate(dtc_results))\n",
    "print('DTC model F1-score:', f1_eval.evaluate(dtc_results))\n",
    "\n",
    "print('-'*50)\n",
    "\n",
    "print('RFC model accuracy:', acc_eval.evaluate(rfc_results))\n",
    "print('RFC model F1-score:', f1_eval.evaluate(rfc_results))"
   ]
  },
  {
   "cell_type": "markdown",
   "metadata": {},
   "source": [
    "## DTC already gives good accuracy and F1-score --> add more tree does not really help\n",
    "\n",
    "## No hyperparameter tuning of RFC\n",
    "\n",
    "## Evaluate only train_data cannot show if the model overfits the data"
   ]
  }
 ],
 "metadata": {
  "kernelspec": {
   "display_name": "Python 3",
   "language": "python",
   "name": "python3"
  },
  "language_info": {
   "codemirror_mode": {
    "name": "ipython",
    "version": 3
   },
   "file_extension": ".py",
   "mimetype": "text/x-python",
   "name": "python",
   "nbconvert_exporter": "python",
   "pygments_lexer": "ipython3",
   "version": "3.5.2"
  }
 },
 "nbformat": 4,
 "nbformat_minor": 2
}
