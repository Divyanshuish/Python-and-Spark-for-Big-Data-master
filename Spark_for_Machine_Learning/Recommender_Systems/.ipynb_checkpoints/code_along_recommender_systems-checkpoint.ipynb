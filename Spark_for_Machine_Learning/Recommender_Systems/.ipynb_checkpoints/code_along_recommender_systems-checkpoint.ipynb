{
 "cells": [
  {
   "cell_type": "code",
   "execution_count": 1,
   "metadata": {},
   "outputs": [],
   "source": [
    "from pyspark.sql import SparkSession\n",
    "spark = SparkSession.builder.appName('recommend').getOrCreate()"
   ]
  },
  {
   "cell_type": "code",
   "execution_count": 3,
   "metadata": {},
   "outputs": [],
   "source": [
    "from pyspark.ml.recommendation import ALS\n",
    "from pyspark.ml.evaluation import RegressionEvaluator"
   ]
  },
  {
   "cell_type": "markdown",
   "metadata": {},
   "source": [
    "## Import data"
   ]
  },
  {
   "cell_type": "code",
   "execution_count": 7,
   "metadata": {},
   "outputs": [],
   "source": [
    "data = spark.read.csv('movielens_ratings.csv', inferSchema=True, header=True)"
   ]
  },
  {
   "cell_type": "code",
   "execution_count": 13,
   "metadata": {},
   "outputs": [
    {
     "name": "stdout",
     "output_type": "stream",
     "text": [
      "No. of row: 1501\n",
      "+-------+------+------+\n",
      "|movieId|rating|userId|\n",
      "+-------+------+------+\n",
      "|      2|   3.0|     0|\n",
      "|      3|   1.0|     0|\n",
      "|      5|   2.0|     0|\n",
      "|      9|   4.0|     0|\n",
      "|     11|   1.0|     0|\n",
      "+-------+------+------+\n",
      "only showing top 5 rows\n",
      "\n"
     ]
    }
   ],
   "source": [
    "print('No. of row: %d' % data.count())\n",
    "data.show(5)"
   ]
  },
  {
   "cell_type": "code",
   "execution_count": 38,
   "metadata": {},
   "outputs": [
    {
     "name": "stdout",
     "output_type": "stream",
     "text": [
      "+-------+------------------+------------------+------------------+\n",
      "|summary|           movieId|            rating|            userId|\n",
      "+-------+------------------+------------------+------------------+\n",
      "|  count|              1501|              1501|              1501|\n",
      "|   mean| 49.40572951365756|1.7741505662891406|14.383744170552964|\n",
      "| stddev|28.937034065088994| 1.187276166124803| 8.591040424293272|\n",
      "|    min|                 0|               1.0|                 0|\n",
      "|    max|                99|               5.0|                29|\n",
      "+-------+------------------+------------------+------------------+\n",
      "\n"
     ]
    }
   ],
   "source": [
    "data.describe().show()"
   ]
  },
  {
   "cell_type": "code",
   "execution_count": 39,
   "metadata": {},
   "outputs": [],
   "source": [
    "train_data, test_data = data.randomSplit([0.8, 0.2])"
   ]
  },
  {
   "cell_type": "markdown",
   "metadata": {},
   "source": [
    "## Build a model"
   ]
  },
  {
   "cell_type": "code",
   "execution_count": 42,
   "metadata": {},
   "outputs": [],
   "source": [
    "als = ALS(maxIter=5, regParam=0.01, userCol='userId', itemCol='movieId', ratingCol='rating')"
   ]
  },
  {
   "cell_type": "code",
   "execution_count": 43,
   "metadata": {},
   "outputs": [],
   "source": [
    "model = als.fit(train_data)"
   ]
  },
  {
   "cell_type": "code",
   "execution_count": 67,
   "metadata": {},
   "outputs": [
    {
     "name": "stdout",
     "output_type": "stream",
     "text": [
      "Factorized user matrix with rank = 10\n",
      "+---+--------------------+\n",
      "| id|            features|\n",
      "+---+--------------------+\n",
      "|  0|[-0.34714437, 0.0...|\n",
      "| 10|[-0.80319965, -0....|\n",
      "| 20|[-0.21793956, 0.3...|\n",
      "|  1|[0.8587597, -0.43...|\n",
      "| 11|[-0.25588533, -0....|\n",
      "+---+--------------------+\n",
      "only showing top 5 rows\n",
      "\n",
      "--------------------------------------------------\n",
      "Factorized item matrix with rank = 10\n",
      "+---+--------------------+\n",
      "| id|            features|\n",
      "+---+--------------------+\n",
      "|  0|[-1.8353459, 0.18...|\n",
      "| 10|[0.7837627, 0.791...|\n",
      "| 20|[1.853389, 0.8566...|\n",
      "| 30|[-4.281721, -1.20...|\n",
      "| 40|[-1.2146126, -1.0...|\n",
      "+---+--------------------+\n",
      "only showing top 5 rows\n",
      "\n"
     ]
    }
   ],
   "source": [
    "print('Factorized user matrix with rank = %d' % model.rank)\n",
    "model.userFactors.show(5)\n",
    "\n",
    "print('-'*50)\n",
    "\n",
    "print('Factorized item matrix with rank = %d' % model.rank)\n",
    "model.itemFactors.show(5)"
   ]
  },
  {
   "cell_type": "code",
   "execution_count": 74,
   "metadata": {},
   "outputs": [
    {
     "name": "stdout",
     "output_type": "stream",
     "text": [
      "Recommended top users (e.g. 1 top user) for all items with the corresponding predicted ratings:\n",
      "+-------+----------------+\n",
      "|movieId| recommendations|\n",
      "+-------+----------------+\n",
      "|     31| [[8,3.0300753]]|\n",
      "|     85| [[8,4.6582036]]|\n",
      "|     65|[[26,2.6746302]]|\n",
      "|     53| [[8,5.1094904]]|\n",
      "|     78|[[11,1.3186768]]|\n",
      "+-------+----------------+\n",
      "only showing top 5 rows\n",
      "\n",
      "--------------------------------------------------\n",
      "Recommended top items (e.g. 1 top item) for all users with the corresponding predicted ratings:\n",
      "+------+----------------+\n",
      "|userId| recommendations|\n",
      "+------+----------------+\n",
      "|    28| [[32,5.294339]]|\n",
      "|    26|  [[38,6.77293]]|\n",
      "|    27|[[49,5.0444503]]|\n",
      "|    12|[[27,5.2244005]]|\n",
      "|    22|[[75,5.1005692]]|\n",
      "+------+----------------+\n",
      "only showing top 5 rows\n",
      "\n"
     ]
    }
   ],
   "source": [
    "print('Recommended top users (e.g. 1 top user) for all items with the corresponding predicted ratings:')\n",
    "model.recommendForAllItems(1).show(5)\n",
    "\n",
    "print('-'*50)\n",
    "\n",
    "print('Recommended top items (e.g. 1 top item) for all users with the corresponding predicted ratings:')\n",
    "model.recommendForAllUsers(1).show(5)"
   ]
  },
  {
   "cell_type": "markdown",
   "metadata": {},
   "source": [
    "## Make predictions on test_data"
   ]
  },
  {
   "cell_type": "code",
   "execution_count": 75,
   "metadata": {},
   "outputs": [],
   "source": [
    "predictions = model.transform(test_data)"
   ]
  },
  {
   "cell_type": "code",
   "execution_count": 76,
   "metadata": {},
   "outputs": [
    {
     "name": "stdout",
     "output_type": "stream",
     "text": [
      "+-------+------+------+-----------+\n",
      "|movieId|rating|userId| prediction|\n",
      "+-------+------+------+-----------+\n",
      "|     31|   1.0|    27|-0.04621993|\n",
      "|     31|   4.0|    12| -0.9708025|\n",
      "|     31|   1.0|     5| 0.41849458|\n",
      "|     31|   1.0|    29| 0.64804256|\n",
      "|     85|   5.0|    16|   -0.62506|\n",
      "|     85|   1.0|     4|  1.2008178|\n",
      "|     85|   1.0|    23|  1.0882655|\n",
      "|     85|   4.0|     7|  2.3168426|\n",
      "|     65|   5.0|    23| 0.72033644|\n",
      "|     65|   1.0|     2|  0.3198831|\n",
      "|     53|   1.0|    23|-0.43821186|\n",
      "|     53|   5.0|    21|  3.3953247|\n",
      "|     78|   1.0|     1|  1.1885641|\n",
      "|     78|   1.0|    20|  1.1257566|\n",
      "|     78|   1.0|    17|  1.2175034|\n",
      "|     78|   1.0|    24|  0.6432372|\n",
      "|     34|   1.0|    16|  2.0533729|\n",
      "|     34|   1.0|    17|   1.565777|\n",
      "|     34|   1.0|     4|  1.2765543|\n",
      "|     34|   4.0|     2|-0.10228021|\n",
      "+-------+------+------+-----------+\n",
      "only showing top 20 rows\n",
      "\n"
     ]
    }
   ],
   "source": [
    "predictions.show()"
   ]
  },
  {
   "cell_type": "markdown",
   "metadata": {},
   "source": [
    "## Evaluate the predictions"
   ]
  },
  {
   "cell_type": "code",
   "execution_count": 79,
   "metadata": {},
   "outputs": [],
   "source": [
    "# check the root mean squared error\n",
    "evaluator = RegressionEvaluator(metricName='rmse', predictionCol='prediction', labelCol='rating')"
   ]
  },
  {
   "cell_type": "code",
   "execution_count": 80,
   "metadata": {},
   "outputs": [],
   "source": [
    "rmse = evaluator.evaluate(predictions)"
   ]
  },
  {
   "cell_type": "code",
   "execution_count": 83,
   "metadata": {},
   "outputs": [
    {
     "name": "stdout",
     "output_type": "stream",
     "text": [
      "Root mean squared error of the test_data: 1.8931\n"
     ]
    }
   ],
   "source": [
    "print('Root mean squared error of the test_data: %.4f' % rmse)"
   ]
  },
  {
   "cell_type": "markdown",
   "metadata": {},
   "source": [
    "## Note that the rating system is from 1 to 5, rmse of 1.89 is not good\n",
    "## Generally a large dataset is required to build a decent recommender system"
   ]
  },
  {
   "cell_type": "markdown",
   "metadata": {},
   "source": [
    "## Previously we make a prediction on a group of users (several users in test_data), let's see how to make predictions on single user (with some records e.g. rated some movies in the train_data)"
   ]
  },
  {
   "cell_type": "code",
   "execution_count": 89,
   "metadata": {},
   "outputs": [
    {
     "name": "stdout",
     "output_type": "stream",
     "text": [
      "+-------+------+------+\n",
      "|movieId|rating|userId|\n",
      "+-------+------+------+\n",
      "|      0|   1.0|    11|\n",
      "|      6|   2.0|    11|\n",
      "|      9|   1.0|    11|\n",
      "|     10|   1.0|    11|\n",
      "|     11|   1.0|    11|\n",
      "|     13|   4.0|    11|\n",
      "|     18|   5.0|    11|\n",
      "|     19|   4.0|    11|\n",
      "|     20|   1.0|    11|\n",
      "|     21|   1.0|    11|\n",
      "|     22|   1.0|    11|\n",
      "|     23|   5.0|    11|\n",
      "|     25|   1.0|    11|\n",
      "|     27|   5.0|    11|\n",
      "|     32|   5.0|    11|\n",
      "|     35|   3.0|    11|\n",
      "|     36|   2.0|    11|\n",
      "|     37|   2.0|    11|\n",
      "|     38|   4.0|    11|\n",
      "|     39|   1.0|    11|\n",
      "+-------+------+------+\n",
      "only showing top 20 rows\n",
      "\n"
     ]
    }
   ],
   "source": [
    "# see historical rating of the user\n",
    "user_history = train_data.filter(train_data['userId']==11)\n",
    "user_history.show()"
   ]
  },
  {
   "cell_type": "code",
   "execution_count": 91,
   "metadata": {},
   "outputs": [
    {
     "name": "stdout",
     "output_type": "stream",
     "text": [
      "+-------+------+\n",
      "|movieId|userId|\n",
      "+-------+------+\n",
      "|     12|    11|\n",
      "|     16|    11|\n",
      "|     30|    11|\n",
      "|     48|    11|\n",
      "|     61|    11|\n",
      "|     70|    11|\n",
      "|     75|    11|\n",
      "|     77|    11|\n",
      "|     79|    11|\n",
      "|     81|    11|\n",
      "|     89|    11|\n",
      "+-------+------+\n",
      "\n"
     ]
    }
   ],
   "source": [
    "# a list of movies we are thinking to offer\n",
    "user_suggest = test_data.filter(train_data['userId']==11).select(['movieId', 'userId'])\n",
    "user_suggest.show()"
   ]
  },
  {
   "cell_type": "code",
   "execution_count": 98,
   "metadata": {},
   "outputs": [
    {
     "name": "stdout",
     "output_type": "stream",
     "text": [
      "+-------+------+-----------+\n",
      "|movieId|userId| prediction|\n",
      "+-------+------+-----------+\n",
      "|     89|    11|   4.517553|\n",
      "|     77|    11|   3.707769|\n",
      "|     48|    11|  3.5568771|\n",
      "|     12|    11|   3.282252|\n",
      "|     81|    11|  3.0455773|\n",
      "|     70|    11|   3.040622|\n",
      "|     79|    11|  2.4697256|\n",
      "|     75|    11|  0.9392534|\n",
      "|     61|    11|  0.5906359|\n",
      "|     30|    11| 0.26028907|\n",
      "|     16|    11|-0.15461397|\n",
      "+-------+------+-----------+\n",
      "\n"
     ]
    }
   ],
   "source": [
    "# offer movies with a high predicted rating\n",
    "user_offer = model.transform(user_suggest)\n",
    "user_offer.orderBy('prediction', ascending=False).show()"
   ]
  }
 ],
 "metadata": {
  "kernelspec": {
   "display_name": "Python 3",
   "language": "python",
   "name": "python3"
  },
  "language_info": {
   "codemirror_mode": {
    "name": "ipython",
    "version": 3
   },
   "file_extension": ".py",
   "mimetype": "text/x-python",
   "name": "python",
   "nbconvert_exporter": "python",
   "pygments_lexer": "ipython3",
   "version": "3.5.2"
  }
 },
 "nbformat": 4,
 "nbformat_minor": 2
}
