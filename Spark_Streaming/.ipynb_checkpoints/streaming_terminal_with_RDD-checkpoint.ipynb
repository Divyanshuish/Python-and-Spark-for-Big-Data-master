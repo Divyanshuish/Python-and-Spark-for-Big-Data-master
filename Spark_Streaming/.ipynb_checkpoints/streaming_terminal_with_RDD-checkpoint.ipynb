{
 "cells": [
  {
   "cell_type": "markdown",
   "metadata": {},
   "source": [
    "# NOTE:\n",
    "# Structured streaming (allows writing directly into a DataFrame) is officially supported in Spark 2.2.0, check out the tutorial - https://spark.apache.org/docs/latest/structured-streaming-programming-guide.html"
   ]
  },
  {
   "cell_type": "markdown",
   "metadata": {},
   "source": [
    "## The notbook below shows how to set up a streaming process using a SparkContext (RDD based)"
   ]
  },
  {
   "cell_type": "code",
   "execution_count": 1,
   "metadata": {},
   "outputs": [],
   "source": [
    "from pyspark import SparkContext"
   ]
  },
  {
   "cell_type": "code",
   "execution_count": 2,
   "metadata": {},
   "outputs": [],
   "source": [
    "from pyspark.streaming import StreamingContext"
   ]
  },
  {
   "cell_type": "code",
   "execution_count": 3,
   "metadata": {},
   "outputs": [],
   "source": [
    "# create a SparkContext object with 2 local threads\n",
    "# name it as \"NetworkWordCount\"\n",
    "sc = SparkContext('local[2]', 'NetworkWordCount')"
   ]
  },
  {
   "cell_type": "code",
   "execution_count": 4,
   "metadata": {},
   "outputs": [],
   "source": [
    "# pass a SparkContect to a StreamingContext object \n",
    "# with batch duration = e.g. 10s\n",
    "ssc = StreamingContext(sc, 10)"
   ]
  },
  {
   "cell_type": "code",
   "execution_count": 5,
   "metadata": {},
   "outputs": [],
   "source": [
    "# set where the data streaming will come from e.g. localhost:9999\n",
    "lines = ssc.socketTextStream('localhost', 9999)"
   ]
  },
  {
   "cell_type": "code",
   "execution_count": 6,
   "metadata": {},
   "outputs": [],
   "source": [
    "# split the 'lines' with a whitespace into a list of words\n",
    "words = lines.flatMap(lambda line: line.split(' '))"
   ]
  },
  {
   "cell_type": "code",
   "execution_count": 7,
   "metadata": {},
   "outputs": [],
   "source": [
    "# create a tuple of each word and 1 using 'map'\n",
    "# e.g. word_0 --> (word_0, 1)\n",
    "pairs = words.map(lambda word: (word, 1))"
   ]
  },
  {
   "cell_type": "code",
   "execution_count": 8,
   "metadata": {},
   "outputs": [],
   "source": [
    "# count the words using reduceByKey e.g. by 'word_0', 'word_1'\n",
    "word_counts = pairs.reduceByKey(lambda num1, num2: num1 + num2)"
   ]
  },
  {
   "cell_type": "code",
   "execution_count": 9,
   "metadata": {},
   "outputs": [],
   "source": [
    "# print elements of the RDD\n",
    "word_counts.pprint()"
   ]
  },
  {
   "cell_type": "markdown",
   "metadata": {},
   "source": [
    "## Go to Terminal and type `nc -lk 9999` to start the localhost:9999"
   ]
  },
  {
   "cell_type": "markdown",
   "metadata": {},
   "source": [
    "## Start the streaming session to the localhost"
   ]
  },
  {
   "cell_type": "markdown",
   "metadata": {},
   "source": [
    "## Type something in the terminal and see the execution after each batch duration"
   ]
  },
  {
   "cell_type": "markdown",
   "metadata": {},
   "source": [
    "![terminal window during streaming](streaming_terminal_with_RDD.png)"
   ]
  },
  {
   "cell_type": "code",
   "execution_count": 10,
   "metadata": {
    "scrolled": false
   },
   "outputs": [
    {
     "name": "stdout",
     "output_type": "stream",
     "text": [
      "-------------------------------------------\n",
      "Time: 2017-12-30 15:21:10\n",
      "-------------------------------------------\n",
      "('Hello', 1)\n",
      "('everybody', 1)\n",
      "\n",
      "-------------------------------------------\n",
      "Time: 2017-12-30 15:21:20\n",
      "-------------------------------------------\n",
      "('streaming', 1)\n",
      "('a', 1)\n",
      "('Welcoming', 1)\n",
      "('session', 1)\n",
      "('to', 1)\n",
      "\n",
      "-------------------------------------------\n",
      "Time: 2017-12-30 15:21:30\n",
      "-------------------------------------------\n",
      "('test', 1)\n",
      "('duplicate', 1)\n",
      "('words', 1)\n",
      "\n",
      "-------------------------------------------\n",
      "Time: 2017-12-30 15:21:40\n",
      "-------------------------------------------\n",
      "('test', 4)\n",
      "\n",
      "-------------------------------------------\n",
      "Time: 2017-12-30 15:21:50\n",
      "-------------------------------------------\n",
      "('OK', 1)\n",
      "\n",
      "-------------------------------------------\n",
      "Time: 2017-12-30 15:22:00\n",
      "-------------------------------------------\n",
      "('work', 1)\n",
      "('Things', 1)\n",
      "('seem', 1)\n",
      "('to', 1)\n",
      "\n",
      "-------------------------------------------\n",
      "Time: 2017-12-30 15:22:10\n",
      "-------------------------------------------\n",
      "('Bye', 1)\n",
      "('bye', 4)\n",
      "\n"
     ]
    }
   ],
   "source": [
    "ssc.start()"
   ]
  },
  {
   "cell_type": "markdown",
   "metadata": {},
   "source": [
    "## Stop the streaming (stop localhost in Terminal using ctrl+c)"
   ]
  },
  {
   "cell_type": "code",
   "execution_count": 11,
   "metadata": {},
   "outputs": [],
   "source": [
    "ssc.stop()"
   ]
  }
 ],
 "metadata": {
  "kernelspec": {
   "display_name": "Python 3",
   "language": "python",
   "name": "python3"
  },
  "language_info": {
   "codemirror_mode": {
    "name": "ipython",
    "version": 3
   },
   "file_extension": ".py",
   "mimetype": "text/x-python",
   "name": "python",
   "nbconvert_exporter": "python",
   "pygments_lexer": "ipython3",
   "version": "3.5.2"
  }
 },
 "nbformat": 4,
 "nbformat_minor": 2
}
