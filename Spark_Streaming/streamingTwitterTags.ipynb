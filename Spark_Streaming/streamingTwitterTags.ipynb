{
 "cells": [
  {
   "cell_type": "code",
   "execution_count": null,
   "metadata": {},
   "outputs": [],
   "source": [
    "# import modules\n",
    "import tweepy\n",
    "from tweepy import OAuthHandler, Stream\n",
    "from tweepy.streaming import StreamListener\n",
    "import socket\n",
    "import json"
   ]
  },
  {
   "cell_type": "code",
   "execution_count": null,
   "metadata": {},
   "outputs": [],
   "source": [
    "# create credential variables\n",
    "consumer_key = 'Reb5ziZMMLe1fAMDpkAYiBFNG'\n",
    "consumer_secret = 'ZfXePZ4p1DjV0n5O0UTmVFzPMand3xfm1mApqfGDmcpwezAWwc'\n",
    "access_token = '3284470063-LQ2tYbdwq7i18RJftmouDsm1Fpmch34MfCpy6D5'\n",
    "access_secret = 'dqYTkWZeWTPysS9tfVJiajg6b4IQmFlJThNkyYdC0RLK2'"
   ]
  },
  {
   "cell_type": "code",
   "execution_count": null,
   "metadata": {},
   "outputs": [],
   "source": [
    "# create a class that listens to tweets\n",
    "\n",
    "class TweetListener(StreamListener):\n",
    "    def __init__(self, csocket):\n",
    "        self.client_socket = csocket\n",
    "        \n",
    "    def on_data(self, data):\n",
    "        try:\n",
    "            msg = json.loads(data)\n",
    "            print(msg['text'].encode('utf-8'))\n",
    "            self.client_socket.send(msg['text'].encode('utf-8'))\n",
    "            return True\n",
    "        except BaseException as e:\n",
    "            print('Error', e)\n",
    "        return True\n",
    "    \n",
    "    def on_error(self, status):\n",
    "        print(status)\n",
    "        return True\n"
   ]
  },
  {
   "cell_type": "code",
   "execution_count": null,
   "metadata": {},
   "outputs": [],
   "source": [
    "# create a function that operate on streamed data\n",
    "def sendData(c_socket):\n",
    "    auth = OAuthHandler(consumer_key, consumer_secret)\n",
    "    auth.set_access_token(access_token, access_secret)\n",
    "    \n",
    "    twitter_stream = Stream(auth, TweetListener(c_socket))\n",
    "    # set a filter to track tweets with a string in the filter set\n",
    "    # twitter_stream.filter(track=['2018','HNY','Happy New Year','สวัสดีปีใหม่'])\n",
    "    twitter_stream.filter(track=['สวัสดีปีใหม่'])\n",
    "    "
   ]
  },
  {
   "cell_type": "code",
   "execution_count": null,
   "metadata": {},
   "outputs": [],
   "source": [
    "if __name__ == '__main__':\n",
    "    s = socket.socket()\n",
    "    # set the host to be a localhost\n",
    "    host = '127.0.0.1' \n",
    "    # set the connection port to be 5555\n",
    "    port = 5555\n",
    "    s.bind((host, port))\n",
    "    \n",
    "    print('listening on port:', port)\n",
    "    \n",
    "    # listening period in second\n",
    "    s.listen(5)\n",
    "    c, addr = s.accept()\n",
    "    \n",
    "    sendData(c)"
   ]
  }
 ],
 "metadata": {
  "kernelspec": {
   "display_name": "Python 3",
   "language": "python",
   "name": "python3"
  },
  "language_info": {
   "codemirror_mode": {
    "name": "ipython",
    "version": 3
   },
   "file_extension": ".py",
   "mimetype": "text/x-python",
   "name": "python",
   "nbconvert_exporter": "python",
   "pygments_lexer": "ipython3",
   "version": "3.5.2"
  }
 },
 "nbformat": 4,
 "nbformat_minor": 2
}
